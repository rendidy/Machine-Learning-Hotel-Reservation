{
 "cells": [
  {
   "cell_type": "markdown",
   "metadata": {},
   "source": [
    "==============================================================================================================\n",
    "Objective: \n",
    "\n",
    "Project ini adalah model inference untuk melakukan pengujian menggunakan data inference, dan melihat apakah model machine learning berhasil memprediksi apakah reservasi pada hotel Blissful Bay Hotel akan di cancel atau tidak berdasarkan data baru. Jika prediksi berhasil, makan dapat dikatakan bawha model Random Forest yang dibuat udah berjalan dengan baik.  \n",
    "\n",
    "===============================================================================================================\n",
    "\n"
   ]
  },
  {
   "cell_type": "code",
   "execution_count": 1,
   "metadata": {},
   "outputs": [],
   "source": [
    "# Import Library\n",
    "\n",
    "import pickle\n",
    "import pandas as pd\n"
   ]
  },
  {
   "cell_type": "code",
   "execution_count": 2,
   "metadata": {},
   "outputs": [],
   "source": [
    "# Load file model\n",
    "\n",
    "with open('best_model.pkl', 'rb') as file_1:\n",
    "  best_model = pickle.load(file_1)\n"
   ]
  },
  {
   "cell_type": "code",
   "execution_count": 3,
   "metadata": {},
   "outputs": [],
   "source": [
    "# Create New Data\n",
    "\n",
    "data_inf = {\n",
    "    'Booking_ID': 'INN36277' , \n",
    "    'no_of_adults': 2 , \n",
    "    'no_of_children': 2 , \n",
    "    'no_of_weekend_nights': 2,\n",
    "    'no_of_week_nights': 1, \n",
    "    'type_of_meal_plan': 'Meal Plan 2' , \n",
    "    'required_car_parking_space': 0 ,\n",
    "    'room_type_reserved': 'Room_Type 4' , \n",
    "    'lead_time': 39 , \n",
    "    'arrival_year': 2018 , \n",
    "    'arrival_month': 12 ,\n",
    "    'arrival_date': 10 , \n",
    "    'market_segment_type': 'Online' , \n",
    "    'repeated_guest': 0 ,\n",
    "    'no_of_previous_cancellations': 0 , \n",
    "    'no_of_previous_bookings_not_canceled': 0 ,\n",
    "    'avg_price_per_room': 135.52 , \n",
    "    'no_of_special_requests': 1  \n",
    "      \n",
    "}"
   ]
  },
  {
   "cell_type": "code",
   "execution_count": 4,
   "metadata": {},
   "outputs": [
    {
     "data": {
      "text/html": [
       "<div>\n",
       "<style scoped>\n",
       "    .dataframe tbody tr th:only-of-type {\n",
       "        vertical-align: middle;\n",
       "    }\n",
       "\n",
       "    .dataframe tbody tr th {\n",
       "        vertical-align: top;\n",
       "    }\n",
       "\n",
       "    .dataframe thead th {\n",
       "        text-align: right;\n",
       "    }\n",
       "</style>\n",
       "<table border=\"1\" class=\"dataframe\">\n",
       "  <thead>\n",
       "    <tr style=\"text-align: right;\">\n",
       "      <th></th>\n",
       "      <th>Booking_ID</th>\n",
       "      <th>no_of_adults</th>\n",
       "      <th>no_of_children</th>\n",
       "      <th>no_of_weekend_nights</th>\n",
       "      <th>no_of_week_nights</th>\n",
       "      <th>type_of_meal_plan</th>\n",
       "      <th>required_car_parking_space</th>\n",
       "      <th>room_type_reserved</th>\n",
       "      <th>lead_time</th>\n",
       "      <th>arrival_year</th>\n",
       "      <th>arrival_month</th>\n",
       "      <th>arrival_date</th>\n",
       "      <th>market_segment_type</th>\n",
       "      <th>repeated_guest</th>\n",
       "      <th>no_of_previous_cancellations</th>\n",
       "      <th>no_of_previous_bookings_not_canceled</th>\n",
       "      <th>avg_price_per_room</th>\n",
       "      <th>no_of_special_requests</th>\n",
       "    </tr>\n",
       "  </thead>\n",
       "  <tbody>\n",
       "    <tr>\n",
       "      <th>0</th>\n",
       "      <td>INN36277</td>\n",
       "      <td>2</td>\n",
       "      <td>2</td>\n",
       "      <td>2</td>\n",
       "      <td>1</td>\n",
       "      <td>Meal Plan 2</td>\n",
       "      <td>0</td>\n",
       "      <td>Room_Type 4</td>\n",
       "      <td>39</td>\n",
       "      <td>2018</td>\n",
       "      <td>12</td>\n",
       "      <td>10</td>\n",
       "      <td>Online</td>\n",
       "      <td>0</td>\n",
       "      <td>0</td>\n",
       "      <td>0</td>\n",
       "      <td>135.52</td>\n",
       "      <td>1</td>\n",
       "    </tr>\n",
       "  </tbody>\n",
       "</table>\n",
       "</div>"
      ],
      "text/plain": [
       "  Booking_ID  no_of_adults  no_of_children  no_of_weekend_nights  \\\n",
       "0   INN36277             2               2                     2   \n",
       "\n",
       "   no_of_week_nights type_of_meal_plan  required_car_parking_space  \\\n",
       "0                  1       Meal Plan 2                           0   \n",
       "\n",
       "  room_type_reserved  lead_time  arrival_year  arrival_month  arrival_date  \\\n",
       "0        Room_Type 4         39          2018             12            10   \n",
       "\n",
       "  market_segment_type  repeated_guest  no_of_previous_cancellations  \\\n",
       "0              Online               0                             0   \n",
       "\n",
       "   no_of_previous_bookings_not_canceled  avg_price_per_room  \\\n",
       "0                                     0              135.52   \n",
       "\n",
       "   no_of_special_requests  \n",
       "0                       1  "
      ]
     },
     "execution_count": 4,
     "metadata": {},
     "output_type": "execute_result"
    }
   ],
   "source": [
    "# convert to dataframe\n",
    "data_inf = pd.DataFrame([data_inf])\n",
    "data_inf"
   ]
  },
  {
   "cell_type": "code",
   "execution_count": 5,
   "metadata": {},
   "outputs": [
    {
     "name": "stdout",
     "output_type": "stream",
     "text": [
      "Predict : The reservation will not be canceled\n"
     ]
    }
   ],
   "source": [
    "# Predict using Random Forest Model\n",
    "y_pred_inf = best_model.predict(data_inf)\n",
    "\n",
    "if y_pred_inf[0] == 0:\n",
    "    print('Predict : The reservation will not be canceled')\n",
    "else:\n",
    "    print('Predict : The reservation will be canceled')\n"
   ]
  },
  {
   "cell_type": "markdown",
   "metadata": {},
   "source": [
    "Analisa:\n",
    "- Terlihat bahwa model inference dapat berjalan dengan baik.\n",
    "- Hal ini terbukti dari berhasilnya model memprediksi apakah reservasi akan di cencel atau tidak menggunakan data baru."
   ]
  }
 ],
 "metadata": {
  "kernelspec": {
   "display_name": "base",
   "language": "python",
   "name": "python3"
  },
  "language_info": {
   "codemirror_mode": {
    "name": "ipython",
    "version": 3
   },
   "file_extension": ".py",
   "mimetype": "text/x-python",
   "name": "python",
   "nbconvert_exporter": "python",
   "pygments_lexer": "ipython3",
   "version": "3.9.17"
  },
  "orig_nbformat": 4
 },
 "nbformat": 4,
 "nbformat_minor": 2
}
